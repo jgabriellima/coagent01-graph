{
  "cells": [
    {
      "cell_type": "markdown",
      "metadata": {
        "vscode": {
          "languageId": "raw"
        }
      },
      "source": [
        "# Chonkie.ai - Advanced Text Chunking for RAG Applications\n",
        "\n",
        "`by João Gabriel Lima`\n",
        "\n",
        "## 🎯 **Objetivo**\n",
        "\n",
        "Este notebook explora **Chonkie.ai**, uma biblioteca Python especializada em chunking de texto para aplicações RAG (Retrieval-Augmented Generation). Vamos analisar as 9 estratégias de chunking disponíveis, implementar casos de uso práticos e avaliar performance.\n",
        "\n",
        "## 📋 **Conteúdo**\n",
        "\n",
        "1. [Introdução e Instalação](#intro)\n",
        "2. [Configuração e Imports](#config)\n",
        "3. [Análise Comparativa dos Chunkers](#comparison)\n",
        "4. [Implementação Prática](#implementation)\n",
        "5. [Casos de Uso Específicos](#use-cases)\n",
        "6. [Análise de Performance](#performance)\n",
        "7. [Troubleshooting e Limitações](#troubleshooting)\n",
        "8. [Conclusões e Recomendações](#conclusions)\n",
        "\n",
        "---\n",
        "\n",
        "## 🔧 **Pré-requisitos**\n",
        "\n",
        "- Python 3.8+\n",
        "- Conhecimento básico de NLP e RAG\n",
        "- Familiaridade com embeddings e modelos de linguagem\n"
      ]
    },
    {
      "cell_type": "markdown",
      "metadata": {
        "vscode": {
          "languageId": "raw"
        }
      },
      "source": [
        "## 📦 **Instalação** <a id=\"intro\"></a>\n",
        "\n",
        "### Instalação Básica\n"
      ]
    },
    {
      "cell_type": "raw",
      "metadata": {
        "vscode": {
          "languageId": "shell"
        }
      },
      "source": [
        "# Instalação básica\n",
        "uv add chonkie\n",
        "\n",
        "# Instalação completa com todos os recursos\n",
        "uv add \"chonkie[all]\"\n",
        "\n",
        "# Dependências adicionais para testes abrangentes\n",
        "uv add tiktoken sentence-transformers transformers torch numpy pandas matplotlib seaborn\n"
      ]
    },
    {
      "cell_type": "raw",
      "metadata": {
        "vscode": {
          "languageId": "raw"
        }
      },
      "source": [
        "uv add chonkie"
      ]
    },
    {
      "cell_type": "raw",
      "metadata": {
        "vscode": {
          "languageId": "raw"
        }
      },
      "source": [
        "## ⚙️ **Configuração e Imports** <a id=\"config\"></a>\n",
        "\n",
        "### Imports Essenciais\n"
      ]
    },
    {
      "cell_type": "code",
      "execution_count": null,
      "metadata": {},
      "outputs": [],
      "source": [
        "# Core Chonkie imports\n",
        "from chonkie import (\n",
        "    TokenChunker,\n",
        "    SentenceChunker, \n",
        "    RecursiveChunker,\n",
        "    SemanticChunker,\n",
        "    SDPMChunker,\n",
        "    LateChunker,\n",
        "    NeuralChunker,\n",
        "    SlumberChunker,\n",
        "    CodeChunker\n",
        ")\n",
        "\n",
        "# Additional utilities\n",
        "import pandas as pd\n",
        "import numpy as np\n",
        "import matplotlib.pyplot as plt\n",
        "import seaborn as sns\n",
        "from time import time\n",
        "from typing import List, Dict, Any\n",
        "import warnings\n",
        "warnings.filterwarnings('ignore')\n",
        "\n",
        "# Configuration\n",
        "plt.style.use('seaborn-v0_8')\n",
        "sns.set_palette(\"husl\")\n",
        "\n",
        "print(\"✅ Imports realizados com sucesso!\")\n",
        "print(f\"📊 Chunkers disponíveis: {len([TokenChunker, SentenceChunker, RecursiveChunker, SemanticChunker, SDPMChunker, LateChunker, NeuralChunker, SlumberChunker, CodeChunker])}\")\n"
      ]
    },
    {
      "cell_type": "markdown",
      "metadata": {
        "vscode": {
          "languageId": "raw"
        }
      },
      "source": [
        "\n",
        "## 🔍 **Análise Comparativa dos Chunkers** <a id=\"comparison\"></a>\n",
        "\n",
        "### Chunkers Comparison Table\n",
        "\n",
        "A tabela abaixo detalha as principais diferenças, casos de uso e funcionamento de cada chunker disponível no Chonkie.ai:\n",
        "\n",
        "| Chunker | Estratégia | Caso de Uso Ideal | Performance | Complexidade | Requer Modelo |\n",
        "|---------|------------|-------------------|-------------|--------------|---------------|\n",
        "| **TokenChunker** | Divisão por tokens fixos | APIs com limites de tokens, controle preciso | Muito Alta | Baixa | Tokenizer |\n",
        "| **SentenceChunker** | Divisão por limites de sentença | Documentos bem estruturados, textos narrativos | Alta | Baixa | Não |\n",
        "| **RecursiveChunker** | Divisão hierárquica com regras customizáveis | Documentos hierárquicos, papers acadêmicos | Média-Alta | Média | Não |\n",
        "| **SemanticChunker** | Agrupamento por similaridade semântica | Documentos longos, conteúdo heterogêneo | Média | Alta | Embedding Model |\n",
        "| **SDPMChunker** | Semantic Double-Pass Merge | Documentos complexos, alta precisão semântica | Média-Baixa | Muito Alta | Embedding Model |\n",
        "| **LateChunker** | Embedding primeiro, chunk depois | RAG avançado, preservação de contexto | Baixa | Muito Alta | Embedding Model |\n",
        "| **NeuralChunker** | Chunking baseado em redes neurais | Documentos não estruturados, ML avançado | Baixa | Muito Alta | Neural Model |\n",
        "| **SlumberChunker** | Chunking otimizado para embeddings | Otimização para embedding models | Média | Alta | Embedding Model |\n",
        "| **CodeChunker** | Chunking específico para código fonte | Repositórios de código, documentação técnica | Alta | Média | Não |\n",
        "\n",
        "### 🔍 **Detalhamento das Estratégias**\n",
        "\n",
        "#### **TokenChunker** 🚀\n",
        "- **Como funciona**: Divide texto em chunks de tamanho fixo baseado em contagem de tokens\n",
        "- **Vantagem**: Controle preciso para limites de API, processamento muito rápido\n",
        "- **Ideal para**: OpenAI API, Claude API, modelos com limites rígidos de contexto\n",
        "\n",
        "#### **SentenceChunker** 📝  \n",
        "- **Como funciona**: Agrupa sentenças em chunks respeitando limites semânticos\n",
        "- **Vantagem**: Preserva integridade semântica, fácil de implementar\n",
        "- **Ideal para**: Textos narrativos, documentos educacionais, artigos de blog\n",
        "\n",
        "#### **RecursiveChunker** 🌳\n",
        "- **Como funciona**: Aplica regras hierárquicas (headers → parágrafos → sentenças)\n",
        "- **Vantagem**: Respeita estrutura do documento, configurável\n",
        "- **Ideal para**: Papers acadêmicos, documentação técnica, relatórios estruturados\n",
        "\n",
        "#### **SemanticChunker** 🧠\n",
        "- **Como funciona**: Usa embeddings para agrupar conteúdo semanticamente similar\n",
        "- **Vantagem**: Chunks tematicamente coerentes, melhor para recuperação\n",
        "- **Ideal para**: Documentos longos, conteúdo multi-tópico, knowledge bases\n",
        "\n",
        "#### **LateChunker** ⚡\n",
        "- **Como funciona**: Processa documento inteiro primeiro, depois chunking com contexto global\n",
        "- **Vantagem**: Preserva contexto máximo, estado da arte para RAG\n",
        "- **Ideal para**: RAG de alta qualidade, documentos complexos\n",
        "\n",
        "#### **SDPMChunker** 🔄\n",
        "- **Como funciona**: Semantic Double-Pass Merge - duas passadas para otimizar semântica\n",
        "- **Vantagem**: Máxima precisão semântica, reduz perda de contexto\n",
        "- **Ideal para**: Documentos científicos complexos, análise legal, pesquisa médica\n",
        "\n",
        "#### **NeuralChunker** 🤖\n",
        "- **Como funciona**: Redes neurais treinadas para identificar pontos ideais de divisão\n",
        "- **Vantagem**: Aprende padrões complexos, adaptável a diferentes domínios\n",
        "- **Ideal para**: Textos não estruturados, linguagem natural complexa\n",
        "\n",
        "#### **SlumberChunker** 😴\n",
        "- **Como funciona**: Chunking otimizado especificamente para modelos de embedding\n",
        "- **Vantagem**: Maximiza qualidade dos embeddings resultantes\n",
        "- **Ideal para**: Sistemas de busca semântica, recomendação de conteúdo\n",
        "\n",
        "#### **CodeChunker** 💻\n",
        "- **Como funciona**: Usa AST (Abstract Syntax Tree) para chunking inteligente de código\n",
        "- **Vantagem**: Preserva estrutura sintática, respeita funções e classes\n",
        "- **Ideal para**: Documentação de código, análise de repositórios, AI coding assistants\n",
        "\n",
        "### ⚖️ **Guia de Seleção Rápida**\n",
        "\n",
        "| Prioridade | Escolha | Justificativa |\n",
        "|------------|---------|---------------|\n",
        "| **Velocidade** | TokenChunker → SentenceChunker → CodeChunker | Performance máxima |\n",
        "| **Qualidade RAG** | LateChunker → SDPMChunker → SemanticChunker | Contexto preservado |\n",
        "| **Simplicidade** | SentenceChunker → TokenChunker → RecursiveChunker | Fácil implementação |\n",
        "| **Flexibilidade** | RecursiveChunker → SemanticChunker → NeuralChunker | Configurabilidade |\n"
      ]
    },
    {
      "cell_type": "markdown",
      "metadata": {
        "vscode": {
          "languageId": "raw"
        }
      },
      "source": [
        "## 🚀 **Implementação Prática** <a id=\"implementation\"></a>\n",
        "\n",
        "### Preparação dos Dados de Teste\n",
        "\n",
        "Vamos criar textos de exemplo para diferentes cenários:\n"
      ]
    },
    {
      "cell_type": "markdown",
      "metadata": {},
      "source": [
        "#### Texto Científico"
      ]
    },
    {
      "cell_type": "code",
      "execution_count": null,
      "metadata": {},
      "outputs": [],
      "source": [
        "# Dados de teste para diferentes cenários\n",
        "\n",
        "# Texto médico/científico\n",
        "medical_text = \"\"\"\n",
        "## Introdução\n",
        "\n",
        "A inteligência artificial (IA) está revolucionando o setor de saúde, especialmente no diagnóstico médico. \n",
        "Machine learning e deep learning permitem análises mais precisas de exames de imagem, como radiografias, tomografias e ressonâncias magnéticas.\n",
        "\n",
        "## Metodologia\n",
        "\n",
        "Neste estudo, utilizamos uma rede neural convolucional (CNN) para classificar imagens de radiografias de tórax. \n",
        "O dataset contém 10.000 imagens categorizadas em três classes: normal, pneumonia e COVID-19.\n",
        "\n",
        "### Pré-processamento\n",
        "\n",
        "As imagens foram redimensionadas para 224x224 pixels e normalizadas. Aplicamos técnicas de data augmentation \n",
        "para aumentar a variabilidade dos dados de treinamento.\n",
        "\n",
        "## Resultados\n",
        "\n",
        "O modelo alcançou uma acurácia de 94.2% no conjunto de teste, superando métodos convencionais. \n",
        "A sensibilidade para detecção de pneumonia foi de 96.1%, e para COVID-19, 91.8%.\n",
        "\n",
        "## Conclusão\n",
        "\n",
        "Os resultados demonstram o potencial da IA no diagnóstico médico, oferecendo uma ferramenta valiosa \n",
        "para profissionais de saúde em cenários de alta demanda.\n",
        "\"\"\"\n",
        "\n",
        "\n"
      ]
    },
    {
      "cell_type": "markdown",
      "metadata": {},
      "source": [
        "#### Texto educacional/narrativo"
      ]
    },
    {
      "cell_type": "code",
      "execution_count": null,
      "metadata": {},
      "outputs": [],
      "source": [
        "educational_text = \"\"\"\n",
        "A história da programação é fascinante e cheia de inovações. Começou na década de 1940 com os primeiros computadores mecânicos.\n",
        "\n",
        "Ada Lovelace é frequentemente considerada a primeira programadora da história. Ela escreveu o primeiro algoritmo \n",
        "destinado a ser processado por uma máquina, especificamente para a Máquina Analítica de Charles Babbage.\n",
        "\n",
        "Na década de 1950, surgiram as primeiras linguagens de programação de alto nível. FORTRAN foi desenvolvida \n",
        "pela IBM para cálculos científicos. Logo depois, COBOL emergiu para aplicações comerciais.\n",
        "\n",
        "Os anos 1960 trouxeram ALGOL e posteriormente PASCAL, que influenciaram profundamente o design de linguagens modernas. \n",
        "A programação estruturada se tornou um paradigma dominante.\n",
        "\n",
        "Na década de 1970, a linguagem C foi criada por Dennis Ritchie, revolucionando a programação de sistemas. \n",
        "Sua influência perdura até hoje em linguagens como C++, Java e Python.\n",
        "\n",
        "A era da programação orientada a objetos começou com Smalltalk nos anos 1970, mas ganhou popularidade \n",
        "com C++ na década de 1980. Este paradigma mudou fundamentalmente como pensamos sobre software.\n",
        "\n",
        "Hoje, temos centenas de linguagens de programação, cada uma projetada para diferentes propósitos: \n",
        "web development, mobile apps, machine learning, data science, e muito mais.\n",
        "\"\"\""
      ]
    },
    {
      "cell_type": "markdown",
      "metadata": {},
      "source": [
        "#### Código exemplo para CodeChunker\n"
      ]
    },
    {
      "cell_type": "code",
      "execution_count": null,
      "metadata": {},
      "outputs": [],
      "source": [
        "code_text = \"\"\"\n",
        "#!/usr/bin/env python3\n",
        "# -*- coding: utf-8 -*-\n",
        "\\\"\\\"\\\"\n",
        "RAG Application with Chonkie Integration\n",
        "Advanced document processing and retrieval system\n",
        "\\\"\\\"\\\"\n",
        "\n",
        "import os\n",
        "import logging\n",
        "from typing import List, Dict, Any, Optional\n",
        "from dataclasses import dataclass\n",
        "from pathlib import Path\n",
        "\n",
        "# Third-party imports\n",
        "import numpy as np\n",
        "import pandas as pd\n",
        "from sklearn.metrics.pairwise import cosine_similarity\n",
        "from sentence_transformers import SentenceTransformer\n",
        "\n",
        "# Chonkie imports\n",
        "from chonkie import TokenChunker, SemanticChunker, RecursiveChunker\n",
        "\n",
        "# Configure logging\n",
        "logging.basicConfig(\n",
        "    level=logging.INFO,\n",
        "    format='%(asctime)s - %(name)s - %(levelname)s - %(message)s'\n",
        ")\n",
        "logger = logging.getLogger(__name__)\n",
        "\n",
        "@dataclass\n",
        "class ChunkResult:\n",
        "    \\\"\\\"\\\"Data class for chunk results\\\"\\\"\\\"\n",
        "    text: str\n",
        "    chunk_id: str\n",
        "    token_count: int\n",
        "    embedding: Optional[np.ndarray] = None\n",
        "    metadata: Dict[str, Any] = None\n",
        "\n",
        "class DocumentProcessor:\n",
        "    \\\"\\\"\\\"Advanced document processing with multiple chunking strategies\\\"\\\"\\\"\n",
        "    \n",
        "    def __init__(self, model_name: str = \"all-MiniLM-L6-v2\"):\n",
        "        self.model = SentenceTransformer(model_name)\n",
        "        self.chunks_cache = {}\n",
        "        logger.info(f\"Initialized DocumentProcessor with model: {model_name}\")\n",
        "    \n",
        "    def process_document(self, \n",
        "                        text: str, \n",
        "                        chunker_type: str = \"recursive\",\n",
        "                        chunk_size: int = 512) -> List[ChunkResult]:\n",
        "        \\\"\\\"\\\"Process document with specified chunker\\\"\\\"\\\"\n",
        "        try:\n",
        "            # Select chunker based on type\n",
        "            chunker = self._get_chunker(chunker_type, chunk_size)\n",
        "            \n",
        "            # Generate chunks\n",
        "            chunks = chunker(text)\n",
        "            \n",
        "            # Process each chunk\n",
        "            results = []\n",
        "            for i, chunk in enumerate(chunks):\n",
        "                chunk_result = ChunkResult(\n",
        "                    text=chunk.text,\n",
        "                    chunk_id=f\"{chunker_type}_{i}\",\n",
        "                    token_count=len(chunk.text.split()),\n",
        "                    embedding=self.model.encode(chunk.text),\n",
        "                    metadata={\"chunker_type\": chunker_type, \"index\": i}\n",
        "                )\n",
        "                results.append(chunk_result)\n",
        "            \n",
        "            logger.info(f\"Processed {len(results)} chunks using {chunker_type}\")\n",
        "            return results\n",
        "            \n",
        "        except Exception as e:\n",
        "            logger.error(f\"Error processing document: {str(e)}\")\n",
        "            raise\n",
        "    \n",
        "    def _get_chunker(self, chunker_type: str, chunk_size: int):\n",
        "        \\\"\\\"\\\"Factory method for chunkers\\\"\\\"\\\"\n",
        "        chunkers = {\n",
        "            \"token\": TokenChunker(chunk_size=chunk_size),\n",
        "            \"semantic\": SemanticChunker(model_name=\"sentence-transformers/all-MiniLM-L6-v2\"),\n",
        "            \"recursive\": RecursiveChunker(chunk_size=chunk_size)\n",
        "        }\n",
        "        return chunkers.get(chunker_type, chunkers[\"recursive\"])\n",
        "\n",
        "def main():\n",
        "    \\\"\\\"\\\"Main execution function\\\"\\\"\\\"\n",
        "    processor = DocumentProcessor()\n",
        "    \n",
        "    # Example usage\n",
        "    sample_text = \"Your document text here...\"\n",
        "    chunks = processor.process_document(sample_text, \"semantic\")\n",
        "    \n",
        "    print(f\"Generated {len(chunks)} chunks\")\n",
        "    for chunk in chunks[:3]:  # Show first 3 chunks\n",
        "        print(f\"Chunk ID: {chunk.chunk_id}  \")\n",
        "        print(f\"Tokens: {chunk.token_count}\")\n",
        "        print(f\"Preview: {chunk.text[:100]}...\")\n",
        "        print(\"-\" * 50)\n",
        "\n",
        "if __name__ == \"__main__\":\n",
        "    main()\n",
        "\"\"\""
      ]
    },
    {
      "cell_type": "markdown",
      "metadata": {
        "vscode": {
          "languageId": "raw"
        }
      },
      "source": [
        "### 1. TokenChunker - Controle Preciso de Tokens\n"
      ]
    },
    {
      "cell_type": "code",
      "execution_count": null,
      "metadata": {},
      "outputs": [],
      "source": [
        "# Configuração do TokenChunker\n",
        "token_chunker = TokenChunker(\n",
        "    chunk_size=100,  # Limite de tokens por chunk\n",
        "    chunk_overlap=10  # Overlap entre chunks\n",
        ")\n",
        "\n",
        "# Processamento\n",
        "token_chunks = token_chunker(medical_text)\n",
        "\n",
        "# Análise dos resultados\n",
        "print(f\"✅ Chunks gerados: {len(token_chunks)}\")\n",
        "print(f\"📊 Média de tokens por chunk: {np.mean([chunk.token_count for chunk in token_chunks]):.1f}\")\n",
        "print(f\"🔄 Overlap configurado: {token_chunker.chunk_overlap} tokens\")\n",
        "\n",
        "# Visualização dos primeiros chunks\n",
        "for i, chunk in enumerate(token_chunks[:3]):\n",
        "    print(f\"\\n📄 Chunk {i+1} (Tokens: {chunk.token_count}):\")\n",
        "    print(f\"├─ Texto: {chunk.text[:100]}...\")\n",
        "    print(f\"└─ ID: {chunk.chunk_id}\")\n",
        "\n",
        "# Caso de uso: Preparação para API OpenAI\n",
        "print(f\"\\n🎯 Uso Prático:\")\n",
        "print(f\"Todos os chunks respeitam o limite de {token_chunker.chunk_size} tokens\")\n",
        "print(f\"Perfeito para APIs com limite de contexto\")\n"
      ]
    },
    {
      "cell_type": "markdown",
      "metadata": {
        "vscode": {
          "languageId": "raw"
        }
      },
      "source": [
        "### 2. SentenceChunker - Preservação Semântica Natural\n"
      ]
    },
    {
      "cell_type": "code",
      "execution_count": null,
      "metadata": {},
      "outputs": [],
      "source": [
        "# SentenceChunker - Preserva integridade semântica\n",
        "print(\"📝 SentenceChunker Implementation\")\n",
        "print(\"=\" * 50)\n",
        "\n",
        "# Configuração do SentenceChunker\n",
        "sentence_chunker = SentenceChunker(\n",
        "    sentences_per_chunk=3,  # Número de sentenças por chunk\n",
        "    chunk_overlap=1  # Sobreposição de sentenças\n",
        ")\n",
        "\n",
        "# Processamento\n",
        "sentence_chunks = sentence_chunker(educational_text)\n",
        "\n",
        "# Análise dos resultados\n",
        "print(f\"✅ Chunks gerados: {len(sentence_chunks)}\")\n",
        "print(f\"📊 Média de sentenças por chunk: {np.mean([len(chunk.text.split('.')) for chunk in sentence_chunks]):.1f}\")\n",
        "\n",
        "# Visualização dos primeiros chunks\n",
        "for i, chunk in enumerate(sentence_chunks[:3]):\n",
        "    sentences_count = len([s for s in chunk.text.split('.') if s.strip()])\n",
        "    print(f\"\\n📄 Chunk {i+1} (Sentenças: {sentences_count}):\")\n",
        "    print(f\"├─ Texto: {chunk.text[:120]}...\")\n",
        "    print(f\"└─ Preserva contexto semântico completo\")\n",
        "\n",
        "# Comparação com TokenChunker\n",
        "print(f\"\\n🔍 Comparação:\")\n",
        "print(f\"├─ TokenChunker: Corta no meio das sentenças\")\n",
        "print(f\"└─ SentenceChunker: Preserva integridade semântica\")\n"
      ]
    },
    {
      "cell_type": "markdown",
      "metadata": {
        "vscode": {
          "languageId": "raw"
        }
      },
      "source": [
        "### 3. RecursiveChunker - Estrutura Hierárquica Inteligente\n"
      ]
    },
    {
      "cell_type": "code",
      "execution_count": null,
      "metadata": {},
      "outputs": [],
      "source": [
        "# RecursiveChunker - Respeita estrutura hierárquica\n",
        "print(\"🌳 RecursiveChunker Implementation\")\n",
        "print(\"=\" * 50)\n",
        "\n",
        "# Configuração do RecursiveChunker\n",
        "recursive_chunker = RecursiveChunker(\n",
        "    chunk_size=200,  # Tamanho máximo do chunk\n",
        "    chunk_overlap=20,  # Overlap entre chunks\n",
        "    separators=[\"\\n\\n\", \"\\n\", \". \", \" \", \"\"]  # Hierarquia de separadores\n",
        ")\n",
        "\n",
        "# Processamento\n",
        "recursive_chunks = recursive_chunker(medical_text)\n",
        "\n",
        "# Análise dos resultados\n",
        "print(f\"✅ Chunks gerados: {len(recursive_chunks)}\")\n",
        "print(f\"📊 Média de caracteres por chunk: {np.mean([len(chunk.text) for chunk in recursive_chunks]):.1f}\")\n",
        "\n",
        "# Visualização dos primeiros chunks\n",
        "for i, chunk in enumerate(recursive_chunks[:3]):\n",
        "    print(f\"\\n📄 Chunk {i+1} (Caracteres: {len(chunk.text)}):\")\n",
        "    print(f\"├─ Texto: {chunk.text[:100]}...\")\n",
        "    # Verificar se mantém estrutura\n",
        "    has_headers = any(line.startswith(\"#\") for line in chunk.text.split(\"\\n\"))\n",
        "    print(f\"└─ Mantém headers: {'✅' if has_headers else '❌'}\")\n",
        "\n",
        "# Análise da estrutura preservada\n",
        "print(f\"\\n🔍 Estrutura Preservada:\")\n",
        "structure_analysis = []\n",
        "for chunk in recursive_chunks:\n",
        "    has_title = any(line.startswith(\"##\") for line in chunk.text.split(\"\\n\"))\n",
        "    has_subtitle = any(line.startswith(\"###\") for line in chunk.text.split(\"\\n\"))\n",
        "    structure_analysis.append({\"title\": has_title, \"subtitle\": has_subtitle})\n",
        "\n",
        "titles_preserved = sum(1 for s in structure_analysis if s[\"title\"])\n",
        "subtitles_preserved = sum(1 for s in structure_analysis if s[\"subtitle\"])\n",
        "\n",
        "print(f\"├─ Chunks com títulos principais: {titles_preserved}\")\n",
        "print(f\"└─ Chunks com subtítulos: {subtitles_preserved}\")\n",
        "print(f\"📈 Ideal para documentos estruturados como papers acadêmicos\")\n"
      ]
    },
    {
      "cell_type": "markdown",
      "metadata": {
        "vscode": {
          "languageId": "raw"
        }
      },
      "source": [
        "### 4. CodeChunker - Processamento Inteligente de Código\n"
      ]
    },
    {
      "cell_type": "code",
      "execution_count": null,
      "metadata": {},
      "outputs": [],
      "source": [
        "# CodeChunker - Especializado em código fonte\n",
        "print(\"💻 CodeChunker Implementation\")\n",
        "print(\"=\" * 50)\n",
        "\n",
        "# Configuração do CodeChunker\n",
        "code_chunker = CodeChunker(\n",
        "    chunk_size=500,  # Tamanho máximo do chunk\n",
        "    chunk_overlap=50,  # Overlap entre chunks\n",
        "    language=\"python\"  # Linguagem específica\n",
        ")\n",
        "\n",
        "# Processamento\n",
        "code_chunks = code_chunker(code_text)\n",
        "\n",
        "# Análise dos resultados\n",
        "print(f\"✅ Chunks gerados: {len(code_chunks)}\")\n",
        "print(f\"📊 Média de caracteres por chunk: {np.mean([len(chunk.text) for chunk in code_chunks]):.1f}\")\n",
        "\n",
        "# Visualização dos primeiros chunks\n",
        "for i, chunk in enumerate(code_chunks[:3]):\n",
        "    lines = chunk.text.split('\\n')\n",
        "    print(f\"\\n📄 Chunk {i+1} (Linhas: {len(lines)}):\")\n",
        "    \n",
        "    # Análise do conteúdo\n",
        "    has_imports = any('import' in line for line in lines)\n",
        "    has_functions = any('def ' in line for line in lines)\n",
        "    has_classes = any('class ' in line for line in lines)\n",
        "    has_comments = any(line.strip().startswith('#') for line in lines)\n",
        "    \n",
        "    print(f\"├─ Imports: {'✅' if has_imports else '❌'}\")\n",
        "    print(f\"├─ Funções: {'✅' if has_functions else '❌'}\")\n",
        "    print(f\"├─ Classes: {'✅' if has_classes else '❌'}\")\n",
        "    print(f\"├─ Comentários: {'✅' if has_comments else '❌'}\")\n",
        "    print(f\"└─ Preview: {chunk.text[:80]}...\")\n",
        "\n",
        "# Análise da preservação sintática\n",
        "print(f\"\\n🔍 Análise Sintática:\")\n",
        "syntactic_elements = {\n",
        "    'imports': 0,\n",
        "    'functions': 0,\n",
        "    'classes': 0,\n",
        "    'docstrings': 0\n",
        "}\n",
        "\n",
        "for chunk in code_chunks:\n",
        "    lines = chunk.text.split('\\n')\n",
        "    syntactic_elements['imports'] += sum(1 for line in lines if 'import' in line)\n",
        "    syntactic_elements['functions'] += sum(1 for line in lines if 'def ' in line.strip())\n",
        "    syntactic_elements['classes'] += sum(1 for line in lines if 'class ' in line.strip())\n",
        "    syntactic_elements['docstrings'] += sum(1 for line in lines if '\\\"\\\"\\\"' in line)\n",
        "\n",
        "for element, count in syntactic_elements.items():\n",
        "    print(f\"├─ {element.title()}: {count}\")\n",
        "\n",
        "print(f\"└─ 🎯 Preserva estrutura sintática do código\")\n"
      ]
    },
    {
      "cell_type": "markdown",
      "metadata": {
        "vscode": {
          "languageId": "raw"
        }
      },
      "source": [
        "## 🔧 **Troubleshooting e Limitações** <a id=\"troubleshooting\"></a>\n",
        "\n",
        "### Problemas Comuns e Soluções\n",
        "\n",
        "#### ⚠️ **Chunkers Avançados (Semantic, SDPM, Late, Neural)**\n",
        "```python\n",
        "# Problema: Requer modelos de embedding ou redes neurais\n",
        "# Solução: Instalar dependências apropriadas\n",
        "\n",
        "# Para SemanticChunker\n",
        "# uv add sentence-transformers\n",
        "\n",
        "# Para LateChunker\n",
        "# uv add transformers torch\n",
        "\n",
        "# Para NeuralChunker\n",
        "# uv add torch transformers datasets\n",
        "```\n",
        "\n",
        "#### 🐛 **Problemas de Performance**\n",
        "- **TokenChunker**: Pode cortar no meio de palavras importantes\n",
        "- **SemanticChunker**: Lento para documentos grandes\n",
        "- **LateChunker**: Requer muita memória RAM\n",
        "\n",
        "#### 📊 **Limitações por Chunker**\n",
        "\n",
        "| Chunker | Limitação Principal | Solução |\n",
        "|---------|---------------------|---------|\n",
        "| **TokenChunker** | Quebra no meio de sentenças | Use com overlap adequado |\n",
        "| **SentenceChunker** | Sentenças muito longas | Configure max_chunk_size |\n",
        "| **RecursiveChunker** | Dependente de separadores | Customize separators |\n",
        "| **SemanticChunker** | Lento para textos grandes | Use em documentos < 50KB |\n",
        "| **CodeChunker** | Específico para linguagens suportadas | Verifique support languages |\n",
        "\n"
      ]
    },
    {
      "cell_type": "markdown",
      "metadata": {
        "vscode": {
          "languageId": "raw"
        }
      },
      "source": [
        "## 📚 **Referências e Recursos**\n",
        "\n",
        "### Documentação Oficial\n",
        "- **Website**: [chonkie.ai](https://chonkie.ai)\n",
        "- **Documentação**: [docs.chonkie.ai](https://docs.chonkie.ai)\n",
        "- **GitHub**: [github.com/chonkie-ai/chonkie](https://github.com/chonkie-ai/chonkie)\n",
        "- **PyPI**: [pypi.org/project/chonkie](https://pypi.org/project/chonkie)\n",
        "\n",
        "### Recursos Adicionais\n",
        "- **RAG Best Practices**: [Retrieval-Augmented Generation Guide](https://example.com/rag-guide)\n",
        "- **Embedding Models**: [Sentence Transformers](https://www.sbert.net/)\n",
        "- **Tokenization**: [Hugging Face Tokenizers](https://huggingface.co/docs/tokenizers/)\n",
        "\n",
        "---\n",
        "\n",
        "João Gabriel Lima  "
      ]
    },
    {
      "cell_type": "markdown",
      "metadata": {},
      "source": []
    }
  ],
  "metadata": {
    "language_info": {
      "name": "python"
    }
  },
  "nbformat": 4,
  "nbformat_minor": 2
}
